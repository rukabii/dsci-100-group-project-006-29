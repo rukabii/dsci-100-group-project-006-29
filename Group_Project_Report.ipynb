{
 "cells": [
  {
   "cell_type": "markdown",
   "id": "1e0a2a11-9f56-4c55-90f3-977cff6a2bed",
   "metadata": {},
   "source": [
    "# Group Project: Maternal Health Risk Classification\n",
    "\n",
    "Members: Ruby Liu, Yu Wei Chen, Annabel Lim, Heather Jia"
   ]
  },
  {
   "cell_type": "markdown",
   "id": "612693c0-bcda-4fad-94a4-d238f6b34f24",
   "metadata": {},
   "source": [
    "## Introduction"
   ]
  },
  {
   "cell_type": "markdown",
   "id": "dfd5a727-0ddf-4b6a-b79f-e46ebbe63bbd",
   "metadata": {},
   "source": [
    "## Methods and Results "
   ]
  },
  {
   "cell_type": "markdown",
   "id": "32ff112a-275d-4f47-b2b2-2bcc6707a69b",
   "metadata": {},
   "source": [
    "## Discussion"
   ]
  },
  {
   "cell_type": "markdown",
   "id": "6d9e6cc6-87ce-482b-a110-9938ca78eb2d",
   "metadata": {},
   "source": [
    "## References "
   ]
  },
  {
   "cell_type": "code",
   "execution_count": null,
   "id": "624b4a9a-973b-42db-a14c-d9f01ebfe54f",
   "metadata": {},
   "outputs": [],
   "source": []
  }
 ],
 "metadata": {
  "kernelspec": {
   "display_name": "",
   "name": ""
  },
  "language_info": {
   "codemirror_mode": "r",
   "file_extension": ".r",
   "mimetype": "text/x-r-source",
   "name": "R",
   "pygments_lexer": "r",
   "version": "4.1.3"
  }
 },
 "nbformat": 4,
 "nbformat_minor": 5
}
