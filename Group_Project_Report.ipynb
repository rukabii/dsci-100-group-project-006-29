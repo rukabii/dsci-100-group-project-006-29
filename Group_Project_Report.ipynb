{
 "cells": [
  {
   "cell_type": "markdown",
   "id": "1e0a2a11-9f56-4c55-90f3-977cff6a2bed",
   "metadata": {},
   "source": [
    "# Group Project Report: Maternal Health Risk Classification\n",
    "\n",
    "Members: Ruby Liu, Yu Wei Chen, Annabel Lim, Heather Jia"
   ]
  },
  {
   "cell_type": "markdown",
   "id": "315aee69-9123-40b0-86e5-741301e127a7",
   "metadata": {
    "tags": []
   },
   "source": [
    "## Introduction\n",
    "\n",
    "### Background Information\n",
    "\n",
    "Depending on a number of factors, a pregnancy can be considered “high-risk”. A high-risk pregnancy means that both mother and child are more likely to have health problems, requiring special monitoring to ensure the least amount of harm. It is important to know whether a mother is high-risk, so medical professionals can take the necessary preventative measures to ensure the health of both the mother and baby. \n",
    "\n",
    "### Project Question\n",
    "\n",
    "Can we use the maternal risk factor measurements (age, systolic blood pressure, diastolic blood pressure, and blood sugar level) provided in our data to predict whether someone who is pregnant is at high risk, mid-risk, or low risk of maternal mortality? \n",
    "\n",
    "### Data Set\n",
    "\n",
    "We will be using the Maternal Health Risk Data Set from the UCI Machine Learning Repository. The data was collected from hospitals, community clinics, and maternal health care centres from the rural areas of Bangladesh where region-specific studies have found that 1 in 10 pregnant women have low blood glucose levels. There are columns for age, systolic blood pressure, diastolic blood pressure, blood sugar, body temperature, heart rate, and risk level.\n"
   ]
  },
  {
   "cell_type": "markdown",
   "id": "dfd5a727-0ddf-4b6a-b79f-e46ebbe63bbd",
   "metadata": {},
   "source": [
    "## Methods and Results "
   ]
  },
  {
   "cell_type": "code",
   "execution_count": null,
   "id": "df0313be-40ab-4b88-a9a8-814bade0b839",
   "metadata": {},
   "outputs": [
    {
     "name": "stderr",
     "output_type": "stream",
     "text": [
      "Updating HTML index of packages in '.Library'\n",
      "\n",
      "Making 'packages.html' ...\n",
      " done\n",
      "\n"
     ]
    }
   ],
   "source": [
    "install.packages(\"tidymodels\")\n",
    "install.packages(\"kknn\")"
   ]
  },
  {
   "cell_type": "code",
   "execution_count": null,
   "id": "dced28c8-94a8-465b-8b5f-23a8d12d5b21",
   "metadata": {},
   "outputs": [],
   "source": [
    "# load libraries \n",
    "library(tidyverse)\n",
    "library(tidymodels)\n",
    "\n",
    "# set seed value\n",
    "set.seed(4)"
   ]
  },
  {
   "cell_type": "code",
   "execution_count": null,
   "id": "73aaae06-d114-4e90-8cd3-26c9ad53a172",
   "metadata": {},
   "outputs": [],
   "source": [
    "# data set url\n",
    "url <- \"https://archive.ics.uci.edu/ml/machine-learning-databases/00639/Maternal%20Health%20Risk%20Data%20Set.csv\"\n",
    "\n",
    "# read data \n",
    "maternity_data <- read_csv(url) |>\n",
    "    mutate(RiskLevel = as_factor(RiskLevel))\n",
    "head(maternity_data)"
   ]
  },
  {
   "cell_type": "code",
   "execution_count": null,
   "id": "15b39648-cce9-41dc-95ce-ca2d714a5cd2",
   "metadata": {},
   "outputs": [],
   "source": [
    "# keep predictors: Age, Systolic Blood Pressure, Diastolic Blood Pressure, Blood Sugar\n",
    "# target variable: Risk Level \n",
    "maternity_selected <- maternity_data |>\n",
    "    select(Age, DiastolicBP, SystolicBP, BS, RiskLevel)\n",
    "head(maternity_selected)"
   ]
  },
  {
   "cell_type": "code",
   "execution_count": null,
   "id": "2b0c3eb8-bd03-4d68-b08c-748367c1eb8d",
   "metadata": {},
   "outputs": [],
   "source": [
    "set.seed(4);\n",
    "\n",
    "# split data by 75% training, 25% testing \n",
    "maternity_split <- initial_split(maternity_selected, prop = 0.75, strata = RiskLevel) \n",
    "\n",
    "# training set \n",
    "maternity_train <- training(maternity_split)\n",
    "\n",
    "# testing set\n",
    "maternity_test <- testing(maternity_split)\n",
    "\n",
    "head(maternity_train)\n",
    "head(maternity_test)"
   ]
  },
  {
   "cell_type": "code",
   "execution_count": null,
   "id": "f5e4757a-2367-4988-aa93-940649708ca5",
   "metadata": {},
   "outputs": [],
   "source": [
    "# find proportions of labels\n",
    "maternity_proportions <- maternity_train |>\n",
    "    group_by(RiskLevel) |>\n",
    "    summarize(n = n()) |>\n",
    "    mutate(percent = 100*n/nrow(maternity_train))\n",
    "\n",
    "maternity_proportions\n",
    "\n",
    "# find mean of each predictor\n",
    "maternity_predictor_means <- maternity_train |>\n",
    "    select(- RiskLevel) |>\n",
    "    map_df(mean)\n",
    "\n",
    "maternity_predictor_means"
   ]
  },
  {
   "cell_type": "code",
   "execution_count": null,
   "id": "d31846ee-1062-4b21-b5e0-ce635260243d",
   "metadata": {},
   "outputs": [],
   "source": [
    "options(repr.plot.width = 12, repr.plot.height = 7)\n",
    "\n",
    "# plot diastolic BP vs systolic BP, color by risk level\n",
    "maternity_diastolic_vs_systolic <- maternity_train |>\n",
    "    ggplot(aes(x = DiastolicBP, y = SystolicBP, color = RiskLevel)) +\n",
    "        geom_point() +\n",
    "        labs (x = \"Diastolic Blood Pressure (mmHg)\", y = \"Systolic Blood Pressure (mmHg)\", color = \"Risk Level\") +\n",
    "        ggtitle(\"Diastolic Blood Pressure vs Systolic Blood Pressure by Risk Level\") +\n",
    "        theme(text = element_text(size = 16)) +\n",
    "        theme(plot.title = element_text(hjust = 0.5))\n",
    "\n",
    "maternity_diastolic_vs_systolic\n",
    "\n",
    "#plot blood sugar vs age, colour by risk level\n",
    "maternity_BS_vs_Age <- maternity_train |>\n",
    "    ggplot(aes(x = Age, y = BS, color = RiskLevel)) +\n",
    "        geom_point() +\n",
    "        labs (x = \"Age (years)\", y = \"Blood Sugar (mg/dL)\", color = \"Risk Level\") +\n",
    "        ggtitle(\"Age vs. Blood Sugar\") +\n",
    "        theme(text = element_text(size = 16)) +\n",
    "        theme(plot.title = element_text(hjust = 0.5))\n",
    "\n",
    "maternity_BS_vs_Age\n",
    "\n",
    "# plot proportion of risk level based on age \n",
    "maternity_age_vs_risk <- maternity_train |>\n",
    "    ggplot(aes(x = Age, fill = RiskLevel)) +\n",
    "        geom_bar() +\n",
    "        labs(x = \"Age\", y = \"Number of Pregnant Individual\", fill = \"Risk Level\") +\n",
    "        ggtitle(\"Proportion of Risk Level by Age\") +\n",
    "        theme(text = element_text(size = 16)) +\n",
    "        theme(plot.title = element_text(hjust = 0.5))\n",
    "\n",
    "maternity_age_vs_risk"
   ]
  },
  {
   "cell_type": "code",
   "execution_count": null,
   "id": "651f4dd6-07e6-4024-96d9-c8d293591754",
   "metadata": {},
   "outputs": [],
   "source": [
    "set.seed(4)\n",
    "\n",
    "# create recipe with all predictors\n",
    "maternity_recipe <- recipe(RiskLevel ~., data = maternity_train) |>\n",
    "    step_scale(all_predictors()) |>\n",
    "    step_center(all_predictors())\n",
    "\n",
    "# create knn model specification\n",
    "knn_spec <- nearest_neighbor(weight_func = \"rectangular\",\n",
    "                             neighbors = tune()) |>\n",
    "    set_engine(\"kknn\") |>\n",
    "    set_mode(\"classification\")\n",
    "\n",
    "# perform 5 fold cross validation on training set\n",
    "train_vfold <- vfold_cv(maternity_train, v=5, strata = RiskLevel) \n",
    "\n",
    "# create data frame where k = 1 to 10\n",
    "k_vals <- tibble(neighbors = seq(from = 1, to = 10))"
   ]
  },
  {
   "cell_type": "code",
   "execution_count": null,
   "id": "3372de47-37b3-436f-876b-5e4185f3cb81",
   "metadata": {},
   "outputs": [],
   "source": [
    "# use workflow to combine recipe + model spec\n",
    "# then tune model using tune_grid and collect metrics\n",
    "knn_results <- workflow() |>\n",
    "    add_recipe(maternity_recipe) |>\n",
    "    add_model(knn_spec) |>\n",
    "    tune_grid(resamples = train_vfold, grid = k_vals) |>\n",
    "    collect_metrics()\n",
    "\n",
    "# get accuracy from metrics on fitted model \n",
    "accuracies <- knn_results |>\n",
    "    filter(.metric == \"accuracy\") \n",
    "\n",
    "head(accuracies)"
   ]
  },
  {
   "cell_type": "code",
   "execution_count": null,
   "id": "94a02bd4-63ed-4361-ba0d-d79889a2aa7d",
   "metadata": {},
   "outputs": [],
   "source": [
    "# plot k (neighbors) vs accuracy (mean)\n",
    "cross_val_plot <- accuracies |>\n",
    "    ggplot(aes(x = neighbors, y = mean)) +\n",
    "        geom_point() +\n",
    "        geom_line() +\n",
    "        labs(x = \"Neighbors (k)\", y = \"Accuracy Estimate\") +\n",
    "        ggtitle(\"Cross-Validation Plot for Estimated Accuracy\") +\n",
    "        scale_x_continuous(breaks = 1:10) +\n",
    "        theme(text = element_text(size = 16)) +\n",
    "        theme(plot.title = element_text(hjust = 0.5))\n",
    "\n",
    "# can estimate and view which k value may be the best\n",
    "cross_val_plot"
   ]
  },
  {
   "cell_type": "code",
   "execution_count": null,
   "id": "db01321b-0307-473f-9e6a-fea9e7a17493",
   "metadata": {},
   "outputs": [],
   "source": [
    "# choose k = 2\n",
    "\n",
    "# create knn model specification with chosen k\n",
    "final_spec <- nearest_neighbor(weight_func = \"rectangular\",\n",
    "                               neighbors = 2) |>\n",
    "    set_engine(\"kknn\") |>\n",
    "    set_mode(\"classification\")\n",
    "\n",
    "# analysis\n",
    "final_results <- workflow() |>\n",
    "    add_recipe(maternity_recipe) |>\n",
    "    add_model(final_spec) |>\n",
    "    fit(data = maternity_train) |>\n",
    "    predict(maternity_test) |>\n",
    "    bind_cols(maternity_test)\n",
    "\n",
    "# extracting model's accuracy\n",
    "final_accuracy <- final_results |>\n",
    "    metrics(truth = RiskLevel, estimate = .pred_class) |>\n",
    "    filter(.metric == \"accuracy\")\n",
    "final_accuracy\n",
    "\n",
    "# extracting model's confusion matrix\n",
    "final_conf_mat <- final_results |>\n",
    "    conf_mat(truth = RiskLevel, estimate = .pred_class)\n",
    "final_conf_mat"
   ]
  },
  {
   "cell_type": "markdown",
   "id": "32ff112a-275d-4f47-b2b2-2bcc6707a69b",
   "metadata": {},
   "source": [
    "## Discussion"
   ]
  },
  {
   "cell_type": "markdown",
   "id": "6d9e6cc6-87ce-482b-a110-9938ca78eb2d",
   "metadata": {},
   "source": [
    "## References "
   ]
  },
  {
   "cell_type": "code",
   "execution_count": null,
   "id": "624b4a9a-973b-42db-a14c-d9f01ebfe54f",
   "metadata": {},
   "outputs": [],
   "source": []
  }
 ],
 "metadata": {
  "kernelspec": {
   "display_name": "R",
   "language": "R",
   "name": "ir"
  },
  "language_info": {
   "codemirror_mode": "r",
   "file_extension": ".r",
   "mimetype": "text/x-r-source",
   "name": "R",
   "pygments_lexer": "r",
   "version": "4.1.1"
  }
 },
 "nbformat": 4,
 "nbformat_minor": 5
}
