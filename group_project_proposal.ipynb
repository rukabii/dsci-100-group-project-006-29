{
 "cells": [
  {
   "cell_type": "markdown",
   "id": "4bdeaa39-969d-4790-a6fc-c946536c2f40",
   "metadata": {},
   "source": [
    "# Group Project Proposal\n",
    "\n",
    "Members: Ruby Liu, Yu Wei Chen, Annabel Lim, Heather Jia"
   ]
  },
  {
   "cell_type": "markdown",
   "id": "5a219577-d2ae-4d7d-a41a-93d3435a3aae",
   "metadata": {},
   "source": [
    "### Title\n",
    "\n",
    "placeholder text"
   ]
  },
  {
   "cell_type": "markdown",
   "id": "7f38feff-1b9a-402f-8060-22182c048f40",
   "metadata": {},
   "source": [
    "### Introduction\n",
    "\n",
    "placeholder text"
   ]
  },
  {
   "cell_type": "markdown",
   "id": "dfaddca2-7375-474b-97fa-abc29e10d137",
   "metadata": {},
   "source": [
    "### Preliminary Exploratory Data Analysis\n",
    "\n",
    "placeholder text"
   ]
  },
  {
   "cell_type": "markdown",
   "id": "b3465c48-09ca-49ec-ae92-b6f81524dc69",
   "metadata": {},
   "source": [
    "### Methods\n",
    "\n",
    "placeholder text"
   ]
  },
  {
   "cell_type": "markdown",
   "id": "a72415e3-a317-4b2b-95d4-89a983ea48c4",
   "metadata": {},
   "source": [
    "### Expected Outcomes and Significance\n",
    "\n",
    "placeholder text"
   ]
  }
 ],
 "metadata": {
  "kernelspec": {
   "display_name": "R",
   "language": "R",
   "name": "ir"
  },
  "language_info": {
   "codemirror_mode": "r",
   "file_extension": ".r",
   "mimetype": "text/x-r-source",
   "name": "R",
   "pygments_lexer": "r",
   "version": "4.1.3"
  }
 },
 "nbformat": 4,
 "nbformat_minor": 5
}
