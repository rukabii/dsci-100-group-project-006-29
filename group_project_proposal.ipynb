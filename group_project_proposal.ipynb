{
 "cells": [
  {
   "cell_type": "markdown",
   "id": "4bdeaa39-969d-4790-a6fc-c946536c2f40",
   "metadata": {
    "tags": []
   },
   "source": [
    "# Group Project Proposal: Maternal Health Risk Classification\n",
    "\n",
    "Members: Ruby Liu, Yu Wei Chen, Annabel Lim, Heather Jia"
   ]
  },
  {
   "cell_type": "markdown",
   "id": "7f38feff-1b9a-402f-8060-22182c048f40",
   "metadata": {},
   "source": [
    "### Introduction\n",
    "\n",
    "placeholder text"
   ]
  },
  {
   "cell_type": "markdown",
   "id": "dfaddca2-7375-474b-97fa-abc29e10d137",
   "metadata": {},
   "source": [
    "### Preliminary Exploratory Data Analysis"
   ]
  },
  {
   "cell_type": "code",
   "execution_count": 19,
   "id": "eb4c8867-7243-4447-88e4-980b63a1f22c",
   "metadata": {},
   "outputs": [],
   "source": [
    "# load libraries \n",
    "library(tidyverse)\n",
    "library(tidymodels)\n",
    "\n",
    "# set seed value\n",
    "set.seed(5);"
   ]
  },
  {
   "cell_type": "code",
   "execution_count": 26,
   "id": "c7901b69-7ffd-4dc8-bf8d-0f03826f7ad4",
   "metadata": {},
   "outputs": [
    {
     "name": "stderr",
     "output_type": "stream",
     "text": [
      "\u001b[1mRows: \u001b[22m\u001b[34m1014\u001b[39m \u001b[1mColumns: \u001b[22m\u001b[34m7\u001b[39m\n",
      "\u001b[36m──\u001b[39m \u001b[1mColumn specification\u001b[22m \u001b[36m────────────────────────────────────────────────────────\u001b[39m\n",
      "\u001b[1mDelimiter:\u001b[22m \",\"\n",
      "\u001b[31mchr\u001b[39m (1): RiskLevel\n",
      "\u001b[32mdbl\u001b[39m (6): Age, SystolicBP, DiastolicBP, BS, BodyTemp, HeartRate\n",
      "\n",
      "\u001b[36mℹ\u001b[39m Use `spec()` to retrieve the full column specification for this data.\n",
      "\u001b[36mℹ\u001b[39m Specify the column types or set `show_col_types = FALSE` to quiet this message.\n"
     ]
    },
    {
     "data": {
      "text/html": [
       "<table class=\"dataframe\">\n",
       "<caption>A tibble: 1014 × 7</caption>\n",
       "<thead>\n",
       "\t<tr><th scope=col>Age</th><th scope=col>SystolicBP</th><th scope=col>DiastolicBP</th><th scope=col>BS</th><th scope=col>BodyTemp</th><th scope=col>HeartRate</th><th scope=col>RiskLevel</th></tr>\n",
       "\t<tr><th scope=col>&lt;dbl&gt;</th><th scope=col>&lt;dbl&gt;</th><th scope=col>&lt;dbl&gt;</th><th scope=col>&lt;dbl&gt;</th><th scope=col>&lt;dbl&gt;</th><th scope=col>&lt;dbl&gt;</th><th scope=col>&lt;fct&gt;</th></tr>\n",
       "</thead>\n",
       "<tbody>\n",
       "\t<tr><td>25</td><td>130</td><td>80</td><td>15</td><td> 98</td><td>86</td><td>high risk</td></tr>\n",
       "\t<tr><td>35</td><td>140</td><td>90</td><td>13</td><td> 98</td><td>70</td><td>high risk</td></tr>\n",
       "\t<tr><td>29</td><td> 90</td><td>70</td><td> 8</td><td>100</td><td>80</td><td>high risk</td></tr>\n",
       "\t<tr><td>⋮</td><td>⋮</td><td>⋮</td><td>⋮</td><td>⋮</td><td>⋮</td><td>⋮</td></tr>\n",
       "\t<tr><td>35</td><td> 85</td><td>60</td><td>19</td><td> 98</td><td>86</td><td>high risk</td></tr>\n",
       "\t<tr><td>43</td><td>120</td><td>90</td><td>18</td><td> 98</td><td>70</td><td>high risk</td></tr>\n",
       "\t<tr><td>32</td><td>120</td><td>65</td><td> 6</td><td>101</td><td>76</td><td>mid risk </td></tr>\n",
       "</tbody>\n",
       "</table>\n"
      ],
      "text/latex": [
       "A tibble: 1014 × 7\n",
       "\\begin{tabular}{lllllll}\n",
       " Age & SystolicBP & DiastolicBP & BS & BodyTemp & HeartRate & RiskLevel\\\\\n",
       " <dbl> & <dbl> & <dbl> & <dbl> & <dbl> & <dbl> & <fct>\\\\\n",
       "\\hline\n",
       "\t 25 & 130 & 80 & 15 &  98 & 86 & high risk\\\\\n",
       "\t 35 & 140 & 90 & 13 &  98 & 70 & high risk\\\\\n",
       "\t 29 &  90 & 70 &  8 & 100 & 80 & high risk\\\\\n",
       "\t ⋮ & ⋮ & ⋮ & ⋮ & ⋮ & ⋮ & ⋮\\\\\n",
       "\t 35 &  85 & 60 & 19 &  98 & 86 & high risk\\\\\n",
       "\t 43 & 120 & 90 & 18 &  98 & 70 & high risk\\\\\n",
       "\t 32 & 120 & 65 &  6 & 101 & 76 & mid risk \\\\\n",
       "\\end{tabular}\n"
      ],
      "text/markdown": [
       "\n",
       "A tibble: 1014 × 7\n",
       "\n",
       "| Age &lt;dbl&gt; | SystolicBP &lt;dbl&gt; | DiastolicBP &lt;dbl&gt; | BS &lt;dbl&gt; | BodyTemp &lt;dbl&gt; | HeartRate &lt;dbl&gt; | RiskLevel &lt;fct&gt; |\n",
       "|---|---|---|---|---|---|---|\n",
       "| 25 | 130 | 80 | 15 |  98 | 86 | high risk |\n",
       "| 35 | 140 | 90 | 13 |  98 | 70 | high risk |\n",
       "| 29 |  90 | 70 |  8 | 100 | 80 | high risk |\n",
       "| ⋮ | ⋮ | ⋮ | ⋮ | ⋮ | ⋮ | ⋮ |\n",
       "| 35 |  85 | 60 | 19 |  98 | 86 | high risk |\n",
       "| 43 | 120 | 90 | 18 |  98 | 70 | high risk |\n",
       "| 32 | 120 | 65 |  6 | 101 | 76 | mid risk  |\n",
       "\n"
      ],
      "text/plain": [
       "     Age SystolicBP DiastolicBP BS BodyTemp HeartRate RiskLevel\n",
       "1    25  130        80          15  98      86        high risk\n",
       "2    35  140        90          13  98      70        high risk\n",
       "3    29   90        70           8 100      80        high risk\n",
       "⋮    ⋮   ⋮          ⋮           ⋮  ⋮        ⋮         ⋮        \n",
       "1012 35   85        60          19  98      86        high risk\n",
       "1013 43  120        90          18  98      70        high risk\n",
       "1014 32  120        65           6 101      76        mid risk "
      ]
     },
     "metadata": {},
     "output_type": "display_data"
    }
   ],
   "source": [
    "# data set url\n",
    "url <- \"https://archive.ics.uci.edu/ml/machine-learning-databases/00639/Maternal%20Health%20Risk%20Data%20Set.csv\"\n",
    "\n",
    "# read data \n",
    "maternity_data <- read_csv(url) |>\n",
    "    mutate(RiskLevel = as_factor(RiskLevel))\n",
    "maternity_data"
   ]
  },
  {
   "cell_type": "markdown",
   "id": "b3465c48-09ca-49ec-ae92-b6f81524dc69",
   "metadata": {},
   "source": [
    "### Methods\n",
    "\n",
    "placeholder text"
   ]
  },
  {
   "cell_type": "markdown",
   "id": "a72415e3-a317-4b2b-95d4-89a983ea48c4",
   "metadata": {},
   "source": [
    "### Expected Outcomes and Significance\n",
    "\n",
    "placeholder text"
   ]
  }
 ],
 "metadata": {
  "kernelspec": {
   "display_name": "R",
   "language": "R",
   "name": "ir"
  },
  "language_info": {
   "codemirror_mode": "r",
   "file_extension": ".r",
   "mimetype": "text/x-r-source",
   "name": "R",
   "pygments_lexer": "r",
   "version": "4.1.3"
  }
 },
 "nbformat": 4,
 "nbformat_minor": 5
}
