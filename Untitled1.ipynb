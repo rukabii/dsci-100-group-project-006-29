{
 "cells": [
  {
   "cell_type": "markdown",
   "id": "1e0a2a11-9f56-4c55-90f3-977cff6a2bed",
   "metadata": {},
   "source": [
    "# Group Project Proposal: Maternal Health Risk Classification\n",
    "\n",
    "Members: Ruby Liu, Yu Wei Chen, Annabel Lim, Heather Jia"
   ]
  },
  {
   "cell_type": "markdown",
   "id": "612693c0-bcda-4fad-94a4-d238f6b34f24",
   "metadata": {},
   "source": [
    "# Introduction"
   ]
  },
  {
   "cell_type": "code",
   "execution_count": null,
   "id": "b1eb200c-44c7-4592-a583-b45b926da6d5",
   "metadata": {},
   "outputs": [],
   "source": [
    "# Methods and Resu"
   ]
  }
 ],
 "metadata": {
  "kernelspec": {
   "display_name": "",
   "name": ""
  },
  "language_info": {
   "codemirror_mode": "r",
   "file_extension": ".r",
   "mimetype": "text/x-r-source",
   "name": "R",
   "pygments_lexer": "r",
   "version": "4.1.3"
  }
 },
 "nbformat": 4,
 "nbformat_minor": 5
}
